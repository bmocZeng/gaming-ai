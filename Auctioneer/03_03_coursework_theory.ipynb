{
 "cells": [
  {
   "cell_type": "markdown",
   "id": "df1c8275",
   "metadata": {},
   "source": [
    "# Strategy\n",
    "\n",
    "Forget for a second about python and writing a bot, and think about the game that you are playing.\n",
    "\n",
    "How would a really good player play the game? \n",
    "\n",
    "* Working together if you want to. \n",
    "* Use pen and paper. \n",
    "* What information would a good player want to know in order to decide their bid?\n",
    "* What information is not very important?\n",
    "* What principles make up a good strategy?\n",
    "* Can we capture this mathematically?\n",
    "* Can we use ideas from game theory?"
   ]
  },
  {
   "cell_type": "markdown",
   "id": "69070b68",
   "metadata": {},
   "source": [
    "## FlatBot Bids\n",
    "\n",
    "* 2 player FlatBots - what is the best bid?\n",
    "* What game theory concept is this? (if we are restricted to FlatBots)\n",
    "* 4 player FlatBots - what is the best bid?\n",
    "* n player FlatBots - what is the best bid?\n",
    "* If you can implement this, then you are not doing too bad"
   ]
  },
  {
   "cell_type": "markdown",
   "id": "5455d46e",
   "metadata": {},
   "source": [
    "## 2 player. Beyond FlatBots\n",
    "\n",
    "You do not need to bid the same amount on every painting - some of them are worth more than others.\n",
    "* How can you beat an optimal FlatBot in a 1 vs 1?\n",
    "* What is the principle here?\n",
    "* How can you determine a bid in a 1 vs 1 game that will at worst draw on average?\n",
    "* Is this a Nash Equilibrium strategy?"
   ]
  },
  {
   "cell_type": "markdown",
   "id": "db7f25ea",
   "metadata": {},
   "source": [
    "## N players\n",
    "\n",
    "* Does your 1 vs 1 strategy generalise to n players?\n",
    "* Does it matter what the other bots do? If they are smart or e.g. RandomBots?\n",
    "* How can you adapt your behaviour? \n",
    "* (Hint: there is no exact answer. This is difficult. Try things and test them against each other)"
   ]
  },
  {
   "cell_type": "code",
   "execution_count": null,
   "id": "638fcbd3",
   "metadata": {},
   "outputs": [],
   "source": []
  }
 ],
 "metadata": {
  "kernelspec": {
   "display_name": "Python 3 (ipykernel)",
   "language": "python",
   "name": "python3"
  },
  "language_info": {
   "codemirror_mode": {
    "name": "ipython",
    "version": 3
   },
   "file_extension": ".py",
   "mimetype": "text/x-python",
   "name": "python",
   "nbconvert_exporter": "python",
   "pygments_lexer": "ipython3",
   "version": "3.11.3"
  }
 },
 "nbformat": 4,
 "nbformat_minor": 5
}
