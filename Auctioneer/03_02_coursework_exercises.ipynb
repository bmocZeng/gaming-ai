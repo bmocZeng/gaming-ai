{
 "cells": [
  {
   "cell_type": "markdown",
   "id": "67ad0013",
   "metadata": {},
   "source": [
    "The purpose of these exercises are to:\n",
    "* Get you comfortable with running auctions.\n",
    "* Practice writing different strategies.\n",
    "\n",
    "# Coursework Exercises \n",
    "\n",
    "Working in the bot arena notebook:\n",
    "\n",
    "## Playing lots of times\n",
    "* Setup an auction with your bot against a FlatBot20. (You might have already done this)\n",
    "* Play the auction 50 times, and see how many times you win. \n",
    "* Can your strategy win at least 49 times out of 50? \n",
    "\n",
    "## Investigate the game variables\n",
    "* The PilgrimBot that we provided prints out the `current_round`. Print out the other game variables in the `get_bid_for_value_game` in the same way. \n",
    "* Write a quick summary of each of the variables.\n",
    "\n",
    "## Different Flat Bots\n",
    "* Copy the code for the FlatBot20 into a new code cell. \n",
    "* Use this copy to make a FlatBot5.\n",
    "* See if your bot can beat the FlatBot5. \n",
    "\n",
    "\n",
    "\n",
    "## Bigger rooms\n",
    "* Setup an auction with your bot against 3 RandomBots. \n",
    "* Play the auction 20 times, and see how many times you win. \n",
    "* Can you win 15 out of 20 times?\n",
    "\n",
    "\n",
    "# Advanced\n",
    "* Try and beat 3 FlatBot20s. \n",
    "* Try and beat 1 FlatBot10.\n",
    "* Make a copy of your own bot and name it something else. Play against this copy, and try and beat it.  \n"
   ]
  },
  {
   "cell_type": "code",
   "execution_count": null,
   "id": "45868b2d",
   "metadata": {},
   "outputs": [],
   "source": []
  }
 ],
 "metadata": {
  "kernelspec": {
   "display_name": "Python 3 (ipykernel)",
   "language": "python",
   "name": "python3"
  },
  "language_info": {
   "codemirror_mode": {
    "name": "ipython",
    "version": 3
   },
   "file_extension": ".py",
   "mimetype": "text/x-python",
   "name": "python",
   "nbconvert_exporter": "python",
   "pygments_lexer": "ipython3",
   "version": "3.11.3"
  }
 },
 "nbformat": 4,
 "nbformat_minor": 5
}
